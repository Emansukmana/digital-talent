{
 "cells": [
  {
   "cell_type": "markdown",
   "metadata": {},
   "source": [
    "### Inisiasi"
   ]
  },
  {
   "cell_type": "code",
   "execution_count": null,
   "metadata": {},
   "outputs": [],
   "source": [
    "import os.path\n",
    "\n",
    "# ganti kode negara disini SN, BX, TH, MY, ID\n",
    "fips_country_code = 'TH'\n",
    "\n",
    "local_path = 'D:/DIGITALENT/GROUP PROJECT/GDELT DATA/'\n",
    "# diisi lokasi folder gdelt_data berada"
   ]
  },
  {
   "cell_type": "markdown",
   "metadata": {},
   "source": [
    "### Menggabungkan file tsv di folder masing-masing country Menjadi 1 Files"
   ]
  },
  {
   "cell_type": "code",
   "execution_count": null,
   "metadata": {},
   "outputs": [],
   "source": [
    "output = local_path+'country/'+fips_country_code+\"_all.csv\";\n",
    "\n",
    "# hapus file sebelumnya\n",
    "os.remove(output)\n",
    "\n",
    "fout=open(output,\"a\")\n",
    "# first file:\n",
    "fout.write('GLOBALEVENTID\\tSQLDATE\\tMonthYear\\tYear\\tFractionDate\\tActor1Code\\tActor1Name\\tActor1CountryCode\\tActor1KnownGroupCode\\tActor1EthnicCode\\tActor1Religion1Code\\tActor1Religion2Code\\tActor1Type1Code\\tActor1Type2Code\\tActor1Type3Code\\tActor2Code\\tActor2Name\\tActor2CountryCode\\tActor2KnownGroupCode\\tActor2EthnicCode\\tActor2Religion1Code\\tActor2Religion2Code\\tActor2Type1Code\\tActor2Type2Code\\tActor2Type3Code\\tIsRootEvent\\tEventCode\tEventBaseCode\tEventRootCode\tQuadClass\tGoldsteinScale\\tNumMentions\\tNumSources\\tNumArticles\\tAvgTone\\tActor1Geo_Type\\tActor1Geo_FullName\\tActor1Geo_CountryCode\\tActor1Geo_ADM1Code\\tActor1Geo_ADM2Code\\tActor1Geo_Lat\\tActor1Geo_Long\\tActor2Geo_Type\\tActor2Geo_FullName\\tActor2Geo_CountryCode\\tActor2Geo_ADM1Code\\tActor2Geo_Lat\\tActor2Geo_Long\\tActor2Geo_FeatureID\\tActionGeo_Type\\tActionGeo_FullName\\tActionGeo_CountryCode\\tActionGeo_ADM1Code\\tActionGeo_Lat\\tActionGeo_Long\\tActionGeo_FeatureID\\tDATEADDED\\tSOURCEURL')\n",
    "for line in open(local_path+'country/'+fips_country_code+'/'+fips_country_code+\"0000.tsv\"):        \n",
    "    fout.write(line)\n",
    "\n",
    "rowCount = 0\n",
    "\n",
    "# now the rest:    \n",
    "for num in range(1,2125):\n",
    "    f = open(local_path+'country/'+fips_country_code+'/'+fips_country_code+'%04i.tsv'%num)\n",
    "    print(\"Merging... \"+local_path+'country/'+fips_country_code+'/'+fips_country_code+'%04i.tsv'%num)  \n",
    "    lenlin = len(line.split('\\t'));\n",
    "    print(\"This File has columns: \", lenlin)\n",
    "#     f.next() # skip the header\n",
    "    for line in f:        \n",
    "        if lenlin == 58: fout.write(line)         \n",
    "        if lenlin == 57: fout.write(line.replace('\\n','\\tn/a\\n'))\n",
    "        rowCount += 1\n",
    "    f.close() # not really needed\n",
    "fout.close()\n",
    "\n",
    "print('Total Rows:'+ str(rowCount))"
   ]
  },
  {
   "cell_type": "markdown",
   "metadata": {},
   "source": [
    "### Langkah Berikutnya di lakukan di HeidiSQL\n",
    "\n",
    "- Kosongkan Table Negara Terkait (Klik Kanan Table -> Empty Tabel)\n",
    "- Jalankan perintah (New Query) yang kayak gini: load data local infile '/mnt/3A922C82922C452B/Data/Course/Digitalent/Repository/maziyank/gdelt_data/country/BX_all.csv' into table gdelt.events_BX;\n",
    "- Kode Negara dan Lokasi File Disesuaikan yak\n"
   ]
  },
  {
   "cell_type": "code",
   "execution_count": null,
   "metadata": {},
   "outputs": [],
   "source": []
  }
 ],
 "metadata": {
  "kernelspec": {
   "display_name": "Python 3",
   "language": "python",
   "name": "python3"
  },
  "language_info": {
   "codemirror_mode": {
    "name": "ipython",
    "version": 3
   },
   "file_extension": ".py",
   "mimetype": "text/x-python",
   "name": "python",
   "nbconvert_exporter": "python",
   "pygments_lexer": "ipython3",
   "version": "3.7.0"
  }
 },
 "nbformat": 4,
 "nbformat_minor": 2
}

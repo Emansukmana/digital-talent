{
 "cells": [
  {
   "cell_type": "markdown",
   "metadata": {},
   "source": [
    "# Buat Koneksi ke DB: conda install -c anaconda sqlalchemy\n",
    "\n",
    "Sebelum melakukan koneksi, kita harus meng-install sqlalchemy melalui perintah:"
   ]
  },
  {
   "cell_type": "code",
   "execution_count": 7,
   "metadata": {},
   "outputs": [],
   "source": [
    "import pymysql\n",
    "import pandas as pd\n",
    "from sqlalchemy import create_engine\n",
    "\n",
    "host = 'localhost'\n",
    "port = '3306'\n",
    "username = 'root'\n",
    "password = ''\n",
    "database = 'classicmodels'\n",
    "\n",
    "# create connection to database\n",
    "engine = create_engine('mysql+pymysql://'+username+':'+password+'@'+host+':'+port+'/'+database)\n",
    "'''engine = create_engine('mysql+pymysql://root: @localhost:3306/academic')'''\n",
    "\n",
    "def run(sql):\n",
    "    df = pd.read_sql_query(sql, engine)\n",
    "    return df"
   ]
  },
  {
   "cell_type": "markdown",
   "metadata": {},
   "source": [
    "# Konversi CSV ke DataFrame"
   ]
  },
  {
   "cell_type": "code",
   "execution_count": 13,
   "metadata": {},
   "outputs": [],
   "source": [
    "# CSV to DataFrame to MySQL\n",
    "df_fromcsv = pd.read_csv('mahasiswa.csv')\n",
    "df_fromcsv.to_sql(name = 'mahasiswa', con = engine, if_exists = 'append', index = False)\n",
    "# if_exists = 'fail' | 'replace' | 'append'"
   ]
  },
  {
   "cell_type": "markdown",
   "metadata": {},
   "source": [
    "# Baca Data dalam Tabel"
   ]
  },
  {
   "cell_type": "code",
   "execution_count": 14,
   "metadata": {
    "scrolled": true
   },
   "outputs": [
    {
     "name": "stdout",
     "output_type": "stream",
     "text": [
      "   ID   Nama\n",
      "0  11    ANI\n",
      "1  22   BUDI\n",
      "2  33  CITRA\n",
      "3  44  DAMAR\n",
      "4  55   ESTI\n"
     ]
    }
   ],
   "source": [
    "# Select all mahasiswa data using run function [pandas]\n",
    "# data in dataFrame type\n",
    "df_results = run(\"SELECT * FROM mahasiswa\")\n",
    "print(df_results)"
   ]
  },
  {
   "cell_type": "markdown",
   "metadata": {},
   "source": [
    "# Lakukan Penambahan Data dengan Query INSERT"
   ]
  },
  {
   "cell_type": "code",
   "execution_count": 15,
   "metadata": {},
   "outputs": [
    {
     "data": {
      "text/plain": [
       "<sqlalchemy.engine.result.ResultProxy at 0x1d58e20df98>"
      ]
     },
     "execution_count": 15,
     "metadata": {},
     "output_type": "execute_result"
    }
   ],
   "source": [
    "# Insert with Autocommit\n",
    "engine.execute(\"INSERT INTO mahasiswa VALUES(66, 'FAJAR')\")"
   ]
  },
  {
   "cell_type": "markdown",
   "metadata": {},
   "source": [
    "# *Insert dengan Variabel"
   ]
  },
  {
   "cell_type": "code",
   "execution_count": 16,
   "metadata": {},
   "outputs": [
    {
     "data": {
      "text/plain": [
       "<sqlalchemy.engine.result.ResultProxy at 0x1d58e2eb4e0>"
      ]
     },
     "execution_count": 16,
     "metadata": {},
     "output_type": "execute_result"
    }
   ],
   "source": [
    "# Insert with Autocommit\n",
    "id_mhs = '77'\n",
    "nama_mhs = 'GILANG'\n",
    "engine.execute(\"INSERT INTO mahasiswa VALUES(\"+id_mhs+\", '\"+nama_mhs+\"')\")"
   ]
  },
  {
   "cell_type": "markdown",
   "metadata": {},
   "source": [
    "# UPDATE Data"
   ]
  },
  {
   "cell_type": "code",
   "execution_count": 17,
   "metadata": {},
   "outputs": [
    {
     "data": {
      "text/plain": [
       "<sqlalchemy.engine.result.ResultProxy at 0x1d58e20db70>"
      ]
     },
     "execution_count": 17,
     "metadata": {},
     "output_type": "execute_result"
    }
   ],
   "source": [
    "# Update with Autocommit\n",
    "engine.execute(\"UPDATE mahasiswa SET Nama = 'Sawabi Zurich Hidayatulloh' WHERE ID=4\")"
   ]
  },
  {
   "cell_type": "markdown",
   "metadata": {},
   "source": [
    "# DELETE"
   ]
  },
  {
   "cell_type": "code",
   "execution_count": 18,
   "metadata": {},
   "outputs": [
    {
     "data": {
      "text/plain": [
       "<sqlalchemy.engine.result.ResultProxy at 0x1d58e04df28>"
      ]
     },
     "execution_count": 18,
     "metadata": {},
     "output_type": "execute_result"
    }
   ],
   "source": [
    "# Delete with Autocommit\n",
    "engine.execute(\"DELETE FROM mahasiswa WHERE ID=4\")"
   ]
  },
  {
   "cell_type": "markdown",
   "metadata": {},
   "source": [
    "# Data dalam bentuk Tupple"
   ]
  },
  {
   "cell_type": "code",
   "execution_count": null,
   "metadata": {},
   "outputs": [],
   "source": [
    "# Select all mahasiswa data using sqlalchemy\n",
    "# data in tupple type\n",
    "t_results = engine.execute(\"SELECT * FROM mahasiswa\").fetchall()\n",
    "print(t_results)"
   ]
  },
  {
   "cell_type": "code",
   "execution_count": null,
   "metadata": {},
   "outputs": [],
   "source": [
    "# Select only one to row mahasiswa data using sqlalchemy\n",
    "# data in tupple type\n",
    "t_one_result = engine.execute(\"SELECT * FROM mahasiswa\").fetchone()\n",
    "print(t_one_result)"
   ]
  },
  {
   "cell_type": "markdown",
   "metadata": {},
   "source": [
    "# EXPORT Dataframe ke CSV"
   ]
  },
  {
   "cell_type": "code",
   "execution_count": null,
   "metadata": {},
   "outputs": [],
   "source": [
    "# Export DataFrame consist mahasiswa data to CSV\n",
    "df_results.to_csv('dftocsv_mahasiswa.csv', index=False)"
   ]
  },
  {
   "cell_type": "markdown",
   "metadata": {},
   "source": [
    "# SUBQUERY"
   ]
  },
  {
   "cell_type": "code",
   "execution_count": null,
   "metadata": {},
   "outputs": [],
   "source": [
    "run(\"SELECT customerNumber from payments where amount = (Select MAX(amount) from payments)\")"
   ]
  },
  {
   "cell_type": "code",
   "execution_count": null,
   "metadata": {},
   "outputs": [],
   "source": [
    "run(\"\"\"\n",
    "SELECT\n",
    "    customerName\n",
    "FROM \n",
    "    customers\n",
    "WHERE \n",
    "    customerNumber = \n",
    "    (SELECT customerNumber from payments where amount = (Select MAX(amount) from payments))\"\"\")"
   ]
  }
 ],
 "metadata": {
  "kernelspec": {
   "display_name": "Python 3",
   "language": "python",
   "name": "python3"
  },
  "language_info": {
   "codemirror_mode": {
    "name": "ipython",
    "version": 3
   },
   "file_extension": ".py",
   "mimetype": "text/x-python",
   "name": "python",
   "nbconvert_exporter": "python",
   "pygments_lexer": "ipython3",
   "version": "3.7.0"
  }
 },
 "nbformat": 4,
 "nbformat_minor": 2
}

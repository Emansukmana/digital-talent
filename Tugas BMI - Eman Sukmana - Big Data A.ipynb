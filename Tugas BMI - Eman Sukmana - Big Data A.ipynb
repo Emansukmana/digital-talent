{
 "cells": [
  {
   "cell_type": "code",
   "execution_count": 5,
   "metadata": {},
   "outputs": [
    {
     "name": "stdout",
     "output_type": "stream",
     "text": [
      "Maaf, Anda belum berhak mengikuti program beasiswa\n",
      "Program Selesai\n"
     ]
    }
   ],
   "source": [
    "nilai = 95\n",
    "umur = 10\n",
    "\n",
    "if nilai>90:\n",
    "    if umur > 17:\n",
    "        print(\"Selamat Anda Berhak Mengikuti Program Beasiswa\")\n",
    "    else:\n",
    "        print(\"Maaf, Anda belum berhak mengikuti program beasiswa\")\n",
    "else:\n",
    "    print(\"Maaf Anda Belum Berhasil\")\n",
    "    \n",
    "print(\"Program Selesai\")"
   ]
  },
  {
   "cell_type": "code",
   "execution_count": 24,
   "metadata": {},
   "outputs": [
    {
     "name": "stdout",
     "output_type": "stream",
     "text": [
      "69.20415224913495\n",
      "Very severely obese\n",
      "Gawat!!! anda harus benar-benar ikhlas untuk dikorbankan\n",
      "terimakasih telah mencoba\n"
     ]
    }
   ],
   "source": [
    "kg = 200\n",
    "cm = 170\n",
    "BMI = kg / (cm * cm / 10000)\n",
    "print(BMI)\n",
    "\n",
    "if BMI<15:\n",
    "    print(\"Very severely underweigth\")\n",
    "    print(\"Kurus anda sangat berbahaya segera opname, kalau tidak bisa busung lapar\")\n",
    "elif 16>BMI>15:\n",
    "    print(\"Severely underweigth\")\n",
    "    print(\"Kurus sekali anda, makan yang banyak ya, minum cucu kambing\")\n",
    "elif 18.5>BMI>16:\n",
    "    print(\"Underweigth\")\n",
    "    print(\"Stop sekarang juga program dietnya, segera beli daging dan tidur yang banyak\")\n",
    "elif 25>BMI>18.5:\n",
    "    print(\"Normal\")\n",
    "    print(\"Selamat anda normal, kuatkan iman ya jangan sampai tergoda lemak dan galau\")\n",
    "elif 30>BMI>25:\n",
    "    print(\"Overweigth\")\n",
    "    print(\"Aduh anda harus siap-siap berkeringat\")\n",
    "elif 35>BMI>30:\n",
    "    print(\"Moderately obese\")\n",
    "    print(\"Stop makan daging dan susu sekarang juga, jadwalkan nguli di sawah\")\n",
    "elif 40>BMI>35:\n",
    "    print(\"Severely obese\")\n",
    "    print(\"Gemuk sekali anda, seminggu ini anda harus berpuasa\")\n",
    "elif BMI>40:\n",
    "    print(\"Very severely obese\")\n",
    "    print(\"Gawat!!! anda harus benar-benar ikhlas untuk dikorbankan\")\n",
    "\n",
    "print(\"terimakasih telah mencoba\")"
   ]
  },
  {
   "cell_type": "code",
   "execution_count": null,
   "metadata": {},
   "outputs": [],
   "source": []
  }
 ],
 "metadata": {
  "kernelspec": {
   "display_name": "Python 3",
   "language": "python",
   "name": "python3"
  },
  "language_info": {
   "codemirror_mode": {
    "name": "ipython",
    "version": 3
   },
   "file_extension": ".py",
   "mimetype": "text/x-python",
   "name": "python",
   "nbconvert_exporter": "python",
   "pygments_lexer": "ipython3",
   "version": "3.7.0"
  }
 },
 "nbformat": 4,
 "nbformat_minor": 2
}

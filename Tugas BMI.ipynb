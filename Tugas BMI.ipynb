{
 "cells": [
  {
   "cell_type": "markdown",
   "metadata": {},
   "source": [
    "# Tugas BMI\n",
    "\n",
    "## Eman Sukmana"
   ]
  },
  {
   "cell_type": "code",
   "execution_count": 1,
   "metadata": {},
   "outputs": [
    {
     "name": "stdout",
     "output_type": "stream",
     "text": [
      "Insert your body weight (Kg): 60\n",
      "Insert your body height (Cm): 170\n"
     ]
    }
   ],
   "source": [
    "# Use try and except to prevent input from string\n",
    "# variables stored as float\n",
    "try:\n",
    "    weight = float(input(\"Insert your body weight (Kg): \"))\n",
    "    height = float(input(\"Insert your body height (Cm): \"))\n",
    "except:\n",
    "    print(\"Please insert valid number! Make sure you use dot (.) not comma (,)\")"
   ]
  },
  {
   "cell_type": "code",
   "execution_count": 2,
   "metadata": {},
   "outputs": [
    {
     "name": "stdout",
     "output_type": "stream",
     "text": [
      "Your BMI score:  20.761245674740486\n",
      "Category: Normal (healthy weight)\n"
     ]
    }
   ],
   "source": [
    "# BMI formula\n",
    "\n",
    "# Let's keep all variables higher than zero\n",
    "if weight <= 0 or height <= 0:\n",
    "    print(\"Looks like your data seems illogical for human being.\")\n",
    "    \n",
    "else:\n",
    "    # Formula starts here\n",
    "    heightMeter = height / 100\n",
    "    BMI = weight / pow(heightMeter, 2) # alternative code: weight / heightMeter**2\n",
    "    \n",
    "    # Exposing the truth\n",
    "    print(\"Your BMI score: \", BMI)\n",
    "    if BMI < 15:\n",
    "        print(\"Category: Very severely underweight\")\n",
    "    elif BMI <= 16:\n",
    "        print(\"Category: Severely underweight\")\n",
    "    elif BMI <= 18.5:\n",
    "        print(\"Category: Underweight\")\n",
    "    elif BMI <= 25:\n",
    "        print(\"Category: Normal (healthy weight)\")\n",
    "    elif BMI <= 30:\n",
    "        print(\"Category: Overweight\")\n",
    "    elif BMI <= 35:\n",
    "        print(\"Category: Moderately obese\")\n",
    "    elif BMI <= 40:\n",
    "        print(\"Category: Severely obese\")\n",
    "    else:\n",
    "        print(\"Category: Very severely obese\")"
   ]
  },
  {
   "cell_type": "code",
   "execution_count": null,
   "metadata": {},
   "outputs": [],
   "source": []
  }
 ],
 "metadata": {
  "kernelspec": {
   "display_name": "Python 3",
   "language": "python",
   "name": "python3"
  },
  "language_info": {
   "codemirror_mode": {
    "name": "ipython",
    "version": 3
   },
   "file_extension": ".py",
   "mimetype": "text/x-python",
   "name": "python",
   "nbconvert_exporter": "python",
   "pygments_lexer": "ipython3",
   "version": "3.7.0"
  }
 },
 "nbformat": 4,
 "nbformat_minor": 2
}

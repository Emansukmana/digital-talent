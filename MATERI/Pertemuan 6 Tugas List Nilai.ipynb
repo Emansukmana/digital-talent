{
 "cells": [
  {
   "cell_type": "markdown",
   "metadata": {},
   "source": [
    "# Tugas List Nilai\n",
    "\n",
    "## Eman Sukmana"
   ]
  },
  {
   "cell_type": "markdown",
   "metadata": {},
   "source": [
    "## Soal\n",
    "Diberikan sekumpulan Nilai Random antara 0 sampai dengan 100 sebanyak 250 nilai. Buatlah program untuk melakukan hal berikut:\n",
    "\n",
    "1. Tampilkan Angka Ganjil dari ke 250 nilai tersebut\n",
    "2. Tampilkan berapa banyak yang mendapatkan nilai lebih dari 70\n",
    "3. Tampilkan standar deviasi dari sekumpulan nilai tersebut\n",
    "4. Tampilkan nilai maksimum dan minimum\n",
    "5. Tampilkan modus dari sekumpulan nilai tersebut"
   ]
  },
  {
   "cell_type": "code",
   "execution_count": 1,
   "metadata": {},
   "outputs": [
    {
     "name": "stdout",
     "output_type": "stream",
     "text": [
      "[97, 57, 43, 31, 57, 58, 92, 94, 8, 65, 48, 34, 50, 27, 27, 71, 83, 15, 55, 79, 11, 44, 31, 75, 78, 60, 41, 98, 18, 52, 58, 68, 72, 13, 37, 52, 8, 56, 40, 74, 7, 46, 72, 94, 3, 76, 21, 93, 19, 95, 19, 63, 35, 46, 6, 63, 82, 35, 48, 61, 88, 51, 37, 68, 21, 47, 33, 93, 37, 95, 63, 8, 41, 69, 28, 2, 26, 30, 60, 56, 36, 58, 94, 70, 19, 52, 58, 25, 6, 94, 92, 77, 95, 50, 89, 18, 28, 14, 48, 78, 60, 77, 38, 36, 10, 83, 75, 40, 31, 29, 80, 49, 29, 10, 49, 78, 49, 81, 20, 17, 62, 48, 94, 58, 23, 61, 84, 53, 78, 47, 28, 34, 76, 41, 66, 41, 1, 42, 89, 58, 73, 55, 28, 97, 94, 33, 87, 52, 53, 17, 54, 19, 49, 87, 57, 3, 61, 25, 94, 71, 55, 89, 48, 40, 27, 64, 50, 78, 35, 17, 47, 31, 51, 69, 7, 56, 83, 53, 77, 10, 1, 40, 28, 83, 27, 93, 77, 4, 85, 77, 9, 94, 26, 92, 42, 17, 57, 27, 81, 10, 68, 42, 74, 75, 24, 12, 23, 87, 5, 31, 9, 96, 68, 52, 54, 16, 25, 46, 78, 88, 96, 53, 75, 91, 75, 86, 43, 43, 19, 91, 84, 87, 56, 71, 57, 22, 80, 36, 71, 33, 96, 58, 47, 50, 14, 57, 7, 49, 28, 83]\n"
     ]
    }
   ],
   "source": [
    "import random\n",
    "\n",
    "# GENERATE RANDOM\n",
    "scoreTest = []\n",
    "for i in range(250):\n",
    "    scoreTest.append(random.randrange(1,100,1))\n",
    "print(scoreTest)"
   ]
  },
  {
   "cell_type": "code",
   "execution_count": 2,
   "metadata": {},
   "outputs": [
    {
     "name": "stdout",
     "output_type": "stream",
     "text": [
      "Odd Score:  [97, 57, 43, 31, 57, 65, 27, 27, 71, 83, 15, 55, 79, 11, 31, 75, 41, 13, 37, 7, 3, 21, 93, 19, 95, 19, 63, 35, 63, 35, 61, 51, 37, 21, 47, 33, 93, 37, 95, 63, 41, 69, 19, 25, 77, 95, 89, 77, 83, 75, 31, 29, 49, 29, 49, 49, 81, 17, 23, 61, 53, 47, 41, 41, 1, 89, 73, 55, 97, 33, 87, 53, 17, 19, 49, 87, 57, 3, 61, 25, 71, 55, 89, 27, 35, 17, 47, 31, 51, 69, 7, 83, 53, 77, 1, 83, 27, 93, 77, 85, 77, 9, 17, 57, 27, 81, 75, 23, 87, 5, 31, 9, 25, 53, 75, 91, 75, 43, 43, 19, 91, 87, 71, 57, 71, 33, 47, 57, 7, 49, 83]\n"
     ]
    }
   ],
   "source": [
    "# 1. To list odd score\n",
    "scoreOdd = [score for score in scoreTest if score % 2 == 1]\n",
    "\n",
    "print(\"Odd Score: \", scoreOdd)"
   ]
  },
  {
   "cell_type": "code",
   "execution_count": 3,
   "metadata": {},
   "outputs": [
    {
     "name": "stdout",
     "output_type": "stream",
     "text": [
      "Score with value > 70:  [97, 92, 94, 71, 83, 79, 75, 78, 98, 72, 74, 72, 94, 76, 93, 95, 82, 88, 93, 95, 94, 94, 92, 77, 95, 89, 78, 77, 83, 75, 80, 78, 81, 94, 84, 78, 76, 89, 73, 97, 94, 87, 87, 94, 71, 89, 78, 83, 77, 83, 93, 77, 85, 77, 94, 92, 81, 74, 75, 87, 96, 78, 88, 96, 75, 91, 75, 86, 91, 84, 87, 71, 80, 71, 96, 83]\n"
     ]
    }
   ],
   "source": [
    "# 2. To list score > 70\n",
    "scoreTestJos = [score for score in scoreTest if score > 70]\n",
    "\n",
    "print(\"Score with value > 70: \", scoreTestJos)"
   ]
  },
  {
   "cell_type": "code",
   "execution_count": 4,
   "metadata": {},
   "outputs": [
    {
     "name": "stdout",
     "output_type": "stream",
     "text": [
      "Manual Standard deviation:  27.026621116891093\n"
     ]
    }
   ],
   "source": [
    "# 3. To calculate Standard Deviation\n",
    "# With no library\n",
    "# Calculate average\n",
    "total = 0\n",
    "for n in scoreTest:\n",
    "    total = total + n    \n",
    "average = total / len(scoreTest)\n",
    "\n",
    "# Start calculating standard deviation\n",
    "numerator = 0\n",
    "for n in scoreTest:\n",
    "    numerator = numerator + pow((n - average), 2)\n",
    "denominator = len(scoreTest) - 1\n",
    "import math\n",
    "standardDeviation2 = math.sqrt(numerator / denominator)\n",
    "\n",
    "print(\"Manual Standard deviation: \", standardDeviation2)\n",
    "\n",
    "# # With Library\n",
    "# import numpy as np\n",
    "# standardDeviation = np.std(scoreTest)\n",
    "\n",
    "# print(\"Standard deviation: \", standardDeviation)"
   ]
  },
  {
   "cell_type": "code",
   "execution_count": 5,
   "metadata": {},
   "outputs": [
    {
     "name": "stdout",
     "output_type": "stream",
     "text": [
      "Minimum score:  1\n",
      "Maximum score:  98\n"
     ]
    }
   ],
   "source": [
    "# 4. To count max and min score\n",
    "scoreMin = 100\n",
    "scoreMax = 0\n",
    "for score in scoreTest:\n",
    "    if score < scoreMin:\n",
    "        scoreMin = score\n",
    "    if score > scoreMax:\n",
    "        scoreMax = score\n",
    "        \n",
    "print(\"Minimum score: \", scoreMin)\n",
    "print(\"Maximum score: \", scoreMax)"
   ]
  },
  {
   "cell_type": "code",
   "execution_count": 6,
   "metadata": {},
   "outputs": [
    {
     "name": "stdout",
     "output_type": "stream",
     "text": [
      "Mode:  94  with count:  8\n"
     ]
    }
   ],
   "source": [
    "# 5. To count mode\n",
    "scoreDict = dict()\n",
    "for score in scoreTest:\n",
    "    scoreDict[score] = scoreDict.get(score,0) + 1\n",
    "\n",
    "scoreList = list()\n",
    "for score, count in scoreDict.items():\n",
    "    scoreList.append((count, score))\n",
    "\n",
    "scoreList.sort(reverse = True)\n",
    "print(\"Mode: \", scoreList[0][1], \" with count: \", scoreList[0][0])"
   ]
  },
  {
   "cell_type": "code",
   "execution_count": null,
   "metadata": {},
   "outputs": [],
   "source": []
  }
 ],
 "metadata": {
  "kernelspec": {
   "display_name": "Python 3",
   "language": "python",
   "name": "python3"
  },
  "language_info": {
   "codemirror_mode": {
    "name": "ipython",
    "version": 3
   },
   "file_extension": ".py",
   "mimetype": "text/x-python",
   "name": "python",
   "nbconvert_exporter": "python",
   "pygments_lexer": "ipython3",
   "version": "3.7.0"
  }
 },
 "nbformat": 4,
 "nbformat_minor": 2
}

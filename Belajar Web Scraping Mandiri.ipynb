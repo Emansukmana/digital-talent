{
 "cells": [
  {
   "cell_type": "code",
   "execution_count": 10,
   "metadata": {},
   "outputs": [],
   "source": [
    "import urllib.request\n",
    "with urllib.request.urlopen('http://python.org/') as response:\n",
    "   html = response.read()"
   ]
  },
  {
   "cell_type": "code",
   "execution_count": 9,
   "metadata": {},
   "outputs": [
    {
     "ename": "NameError",
     "evalue": "name 'soup' is not defined",
     "output_type": "error",
     "traceback": [
      "\u001b[1;31m-------------------------------------------------------------------------\u001b[0m",
      "\u001b[1;31mNameError\u001b[0m                               Traceback (most recent call last)",
      "\u001b[1;32m<ipython-input-9-ad1485ef2716>\u001b[0m in \u001b[0;36m<module>\u001b[1;34m()\u001b[0m\n\u001b[1;32m----> 1\u001b[1;33m \u001b[0msoup\u001b[0m\u001b[1;33m.\u001b[0m\u001b[0mtitle\u001b[0m\u001b[1;33m\u001b[0m\u001b[0m\n\u001b[0m\u001b[0;32m      2\u001b[0m \u001b[1;31m# <title>The Dormouse's story</title>\u001b[0m\u001b[1;33m\u001b[0m\u001b[1;33m\u001b[0m\u001b[0m\n\u001b[0;32m      3\u001b[0m \u001b[1;33m\u001b[0m\u001b[0m\n\u001b[0;32m      4\u001b[0m \u001b[0msoup\u001b[0m\u001b[1;33m.\u001b[0m\u001b[0mtitle\u001b[0m\u001b[1;33m.\u001b[0m\u001b[0mname\u001b[0m\u001b[1;33m\u001b[0m\u001b[0m\n\u001b[0;32m      5\u001b[0m \u001b[1;31m# u'title'\u001b[0m\u001b[1;33m\u001b[0m\u001b[1;33m\u001b[0m\u001b[0m\n",
      "\u001b[1;31mNameError\u001b[0m: name 'soup' is not defined"
     ]
    }
   ],
   "source": [
    "soup.title\n",
    "# <title>The Dormouse's story</title>\n",
    "\n",
    "soup.title.name\n",
    "# u'title'\n",
    "\n",
    "soup.title.string\n",
    "# u'The Dormouse's story'\n",
    "\n",
    "soup.title.parent.name\n",
    "# u'head'\n",
    "\n",
    "soup.p\n",
    "# <p class=\"title\"><b>The Dormouse's story</b></p>\n",
    "\n",
    "soup.p['class']\n",
    "# u'title'\n",
    "\n",
    "soup.a\n",
    "# <a class=\"sister\" href=\"http://example.com/elsie\" id=\"link1\">Elsie</a>\n",
    "\n",
    "soup.find_all('a')\n",
    "# [<a class=\"sister\" href=\"http://example.com/elsie\" id=\"link1\">Elsie</a>,\n",
    "#  <a class=\"sister\" href=\"http://example.com/lacie\" id=\"link2\">Lacie</a>,\n",
    "#  <a class=\"sister\" href=\"http://example.com/tillie\" id=\"link3\">Tillie</a>]\n",
    "\n",
    "soup.find(id=\"link3\")\n",
    "# <a class=\"sister\" href=\"http://example.com/tillie\" id=\"link3\">Tillie</a>"
   ]
  },
  {
   "cell_type": "code",
   "execution_count": 11,
   "metadata": {},
   "outputs": [],
   "source": [
    "from requests import get\n",
    "from requests.exceptions import RequestException\n",
    "from contextlib import closing\n",
    "from bs4 import BeautifulSoup"
   ]
  },
  {
   "cell_type": "code",
   "execution_count": 12,
   "metadata": {},
   "outputs": [],
   "source": [
    "from bs4 import BeautifulSoup\n",
    " \n",
    "soup = BeautifulSoup(\"<html><p>This is <b>invalid HTML</p></html>\", \"html.parser\")"
   ]
  },
  {
   "cell_type": "code",
   "execution_count": 13,
   "metadata": {},
   "outputs": [
    {
     "name": "stdout",
     "output_type": "stream",
     "text": [
      "<html><p>This is <b>invalid HTML</b></p></html>\n",
      "<html><body><p>This is <b>invalid HTML</b></p></body></html>\n",
      "<?xml version=\"1.0\" encoding=\"utf-8\"?>\n",
      "<html><p>This is <b>invalid HTML</b></p></html>\n",
      "<html><head></head><body><p>This is <b>invalid HTML</b></p></body></html>\n"
     ]
    }
   ],
   "source": [
    "soup = BeautifulSoup(\"<html><p>This is <b>invalid HTML</p></html>\", \"html.parser\")\n",
    "print(soup)\n",
    "# <html><p>This is <b>invalid HTML</b></p></html>\n",
    " \n",
    "soup = BeautifulSoup(\"<html><p>This is <b>invalid HTML</p></html>\", \"lxml\")\n",
    "print(soup)\n",
    "# <html><body><p>This is <b>invalid HTML</b></p></body></html>\n",
    " \n",
    "soup = BeautifulSoup(\"<html><p>This is <b>invalid HTML</p></html>\", \"xml\")\n",
    "print(soup)\n",
    "# <?xml version=\"1.0\" encoding=\"utf-8\"?>\n",
    "# <html><p>This is <b>invalid HTML</b></p></html>\n",
    " \n",
    "soup = BeautifulSoup(\"<html><p>This is <b>invalid HTML</p></html>\", \"html5lib\")\n",
    "print(soup)\n",
    "# <html><head></head><body><p>This is <b>invalid HTML</b></p></body></html>"
   ]
  },
  {
   "cell_type": "code",
   "execution_count": 14,
   "metadata": {},
   "outputs": [],
   "source": [
    "import requests\n",
    "from bs4 import BeautifulSoup\n",
    " \n",
    "req = requests.get('https://en.wikipedia.org/wiki/Python_(programming_language)')\n",
    "soup = BeautifulSoup(req.text, \"lxml\")"
   ]
  },
  {
   "cell_type": "code",
   "execution_count": 15,
   "metadata": {},
   "outputs": [
    {
     "data": {
      "text/plain": [
       "'Python (programming language) - Wikipedia'"
      ]
     },
     "execution_count": 15,
     "metadata": {},
     "output_type": "execute_result"
    }
   ],
   "source": [
    "soup.title\n",
    "# <title>Python (programming language) - Wikipedia</title>\n",
    " \n",
    "soup.title.name\n",
    "# 'title'\n",
    " \n",
    "soup.title.string\n",
    "# 'Python (programming language) - Wikipedia'"
   ]
  },
  {
   "cell_type": "code",
   "execution_count": 16,
   "metadata": {},
   "outputs": [
    {
     "data": {
      "text/plain": [
       "<h1 class=\"firstHeading, mainHeading\">Python - Programming Language</h1>"
      ]
     },
     "execution_count": 16,
     "metadata": {},
     "output_type": "execute_result"
    }
   ],
   "source": [
    "soup.h1\n",
    "# <h1 class=\"firstHeading\" id=\"firstHeading\" lang=\"en\">Python (programming language)</h1>\n",
    " \n",
    "soup.h1.string\n",
    "# 'Python (programming language)'\n",
    " \n",
    "soup.h1['class']\n",
    "# ['firstHeading']\n",
    " \n",
    "soup.h1['id']\n",
    "# 'firstHeading'\n",
    " \n",
    "soup.h1.attrs\n",
    "# {'class': ['firstHeading'], 'id': 'firstHeading', 'lang': 'en'}\n",
    " \n",
    "soup.h1['class'] = 'firstHeading, mainHeading'\n",
    "soup.h1.string.replace_with(\"Python - Programming Language\")\n",
    "del soup.h1['lang']\n",
    "del soup.h1['id']\n",
    " \n",
    "soup.h1\n",
    "# <h1 class=\"firstHeading, mainHeading\">Python - Programming Language</h1>"
   ]
  },
  {
   "cell_type": "code",
   "execution_count": 17,
   "metadata": {},
   "outputs": [
    {
     "name": "stdout",
     "output_type": "stream",
     "text": [
      "Contents\n",
      "History\n",
      "Features and philosophy\n",
      "Syntax and semantics\n",
      "Libraries\n",
      "Development environments\n",
      "Implementations\n",
      "Development\n",
      "Naming\n",
      "API documentation generators\n",
      "Uses\n",
      "Languages influenced by Python\n",
      "See also\n",
      "References\n",
      "Further reading\n",
      "External links\n",
      "Navigation menu\n"
     ]
    }
   ],
   "source": [
    "for sub_heading in soup.find_all('h2'):\n",
    "    print(sub_heading.text)\n",
    "     \n",
    "# all the sub-headings like Contents, History[edit]..."
   ]
  },
  {
   "cell_type": "code",
   "execution_count": 18,
   "metadata": {},
   "outputs": [
    {
     "name": "stdout",
     "output_type": "stream",
     "text": [
      "['\\n']\n"
     ]
    },
    {
     "ename": "IndexError",
     "evalue": "list index out of range",
     "output_type": "error",
     "traceback": [
      "\u001b[1;31m-------------------------------------------------------------------------\u001b[0m",
      "\u001b[1;31mIndexError\u001b[0m                              Traceback (most recent call last)",
      "\u001b[1;32m<ipython-input-18-770af1fb10f2>\u001b[0m in \u001b[0;36m<module>\u001b[1;34m()\u001b[0m\n\u001b[0;32m      2\u001b[0m \u001b[1;31m# [<b>Python</b>, ' is a widely used ',.....the full list]\u001b[0m\u001b[1;33m\u001b[0m\u001b[1;33m\u001b[0m\u001b[0m\n\u001b[0;32m      3\u001b[0m \u001b[1;33m\u001b[0m\u001b[0m\n\u001b[1;32m----> 4\u001b[1;33m \u001b[0mprint\u001b[0m\u001b[1;33m(\u001b[0m\u001b[0msoup\u001b[0m\u001b[1;33m.\u001b[0m\u001b[0mp\u001b[0m\u001b[1;33m.\u001b[0m\u001b[0mcontents\u001b[0m\u001b[1;33m[\u001b[0m\u001b[1;36m10\u001b[0m\u001b[1;33m]\u001b[0m\u001b[1;33m)\u001b[0m\u001b[1;33m\u001b[0m\u001b[0m\n\u001b[0m\u001b[0;32m      5\u001b[0m \u001b[1;31m# <a href=\"/wiki/Readability\" title=\"Readability\">readability</a>\u001b[0m\u001b[1;33m\u001b[0m\u001b[1;33m\u001b[0m\u001b[0m\n\u001b[0;32m      6\u001b[0m \u001b[1;33m\u001b[0m\u001b[0m\n",
      "\u001b[1;31mIndexError\u001b[0m: list index out of range"
     ]
    }
   ],
   "source": [
    "print(soup.p.contents)\n",
    "# [<b>Python</b>, ' is a widely used ',.....the full list]\n",
    " \n",
    "print(soup.p.contents[10])\n",
    "# <a href=\"/wiki/Readability\" title=\"Readability\">readability</a>\n",
    " \n",
    "for child in soup.p.children:\n",
    "    print(child.name)\n",
    "# b\n",
    "# None\n",
    "# a\n",
    "# None\n",
    "# a\n",
    "# None\n",
    "# ... and so on."
   ]
  },
  {
   "cell_type": "code",
   "execution_count": 19,
   "metadata": {},
   "outputs": [
    {
     "name": "stdout",
     "output_type": "stream",
     "text": [
      "div\n",
      "div\n",
      "div\n",
      "div\n",
      "div\n",
      "body\n",
      "html\n",
      "[document]\n"
     ]
    }
   ],
   "source": [
    "print(soup.p.parent.name)\n",
    "# div\n",
    " \n",
    "for parent in soup.p.parents:\n",
    "    print(parent.name)\n",
    "# div\n",
    "# div\n",
    "# div\n",
    "# body\n",
    "# html\n",
    "# [document]"
   ]
  },
  {
   "cell_type": "code",
   "execution_count": null,
   "metadata": {},
   "outputs": [],
   "source": [
    "soup.head.next_sibling\n",
    "# '\\n'\n",
    " \n",
    "soup.p.a.next_sibling\n",
    "# ' for '\n",
    " \n",
    "soup.p.a.previous_sibling\n",
    "# ' is a widely used '\n",
    " \n",
    "print(soup.p.b.previous_sibling)\n",
    "# None"
   ]
  },
  {
   "cell_type": "code",
   "execution_count": null,
   "metadata": {},
   "outputs": [],
   "source": []
  }
 ],
 "metadata": {
  "kernelspec": {
   "display_name": "Python 3",
   "language": "python",
   "name": "python3"
  },
  "language_info": {
   "codemirror_mode": {
    "name": "ipython",
    "version": 3
   },
   "file_extension": ".py",
   "mimetype": "text/x-python",
   "name": "python",
   "nbconvert_exporter": "python",
   "pygments_lexer": "ipython3",
   "version": "3.7.0"
  }
 },
 "nbformat": 4,
 "nbformat_minor": 2
}
